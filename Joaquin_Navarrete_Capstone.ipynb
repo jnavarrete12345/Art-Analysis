{
 "cells": [
  {
   "cell_type": "code",
   "execution_count": 584,
   "id": "35b53685",
   "metadata": {},
   "outputs": [],
   "source": [
    "import pandas as pd\n",
    "import numpy as np\n",
    "from statistics import mean\n",
    "import matplotlib.pyplot as plt\n",
    "from sklearn.linear_model import LinearRegression\n",
    "from sklearn.model_selection import train_test_split\n",
    "from sklearn.metrics import r2_score, mean_squared_error\n",
    "from scipy.stats import pearsonr\n",
    "from sklearn.cluster import KMeans\n",
    "import scipy.stats as stats\n",
    "from scipy.stats import mannwhitneyu\n",
    "from sklearn.linear_model import LinearRegression\n",
    "from sklearn.model_selection import cross_val_score\n",
    "from sklearn.decomposition import PCA\n",
    "from sklearn.linear_model import LogisticRegression\n",
    "import math\n",
    "import random\n",
    "\n",
    "\n",
    "art = pd.read_csv('theArt.csv')\n",
    "data = pd.read_excel('data_try2.xlsx')\n"
   ]
  },
  {
   "cell_type": "code",
   "execution_count": 585,
   "id": "c55a0c46",
   "metadata": {},
   "outputs": [],
   "source": [
    "## N-Number as random seed\n",
    "\n",
    "n_number = \"147235354\"\n",
    "\n",
    "# Convert the string N-number to an integer for seeding the RNG\n",
    "seed_value = int(n_number)\n",
    "\n",
    "# Seed the RNG with the integer seed value\n",
    "random.seed(seed_value)\n"
   ]
  },
  {
   "cell_type": "code",
   "execution_count": 586,
   "id": "00c5cf6c",
   "metadata": {},
   "outputs": [],
   "source": [
    "# Formating of 'data' dataframe\n",
    "\n",
    "# Columns 1-91: 1-91\n",
    "# Columns 92-182: 1-91\n",
    "# Columns 183 - 194: 1-12\n",
    "# Columns 195 - 205: 1 - 11\n",
    "# Columns 206 - 215: 1 - 10\n",
    "# Columns 216: age\n",
    "# Columns 217: gender\n",
    "# Columns 218: political_orientation\n",
    "# Columns 219 art_education\n",
    "# Columns 220: general_sophistication \n",
    "# Columns 221: an_artist_myself\n",
    "\n",
    "# Add Column Labels for easier access\n",
    "\n",
    "\n",
    "\n",
    "# assign column names based on the specified ranges\n",
    "\n",
    "column_names = list(range(1,92)) + list(range(1,92)) + list(range(1,13)) + list(range(1,12)) + \\\n",
    "               list(range(1,11)) + ['age', 'gender', 'political_orientation', 'art_education', \\\n",
    "                                    'general_sophistication', 'an_artist_myself']\n",
    "data.columns = column_names\n",
    "\n",
    "\n",
    "\n"
   ]
  },
  {
   "cell_type": "markdown",
   "id": "702f3aa0",
   "metadata": {},
   "source": [
    "## 1) Is classical art more well liked than modern art? "
   ]
  },
  {
   "cell_type": "markdown",
   "id": "af065827",
   "metadata": {},
   "source": [
    "We can make many statistical analysis to answer this question\n",
    "\n",
    "- Central tendency differences\n",
    "- Non-Parametric Test to compare if difference between rating of classical and modern art are statistically significant"
   ]
  },
  {
   "cell_type": "code",
   "execution_count": 587,
   "id": "5bbbd3c0",
   "metadata": {},
   "outputs": [],
   "source": [
    "# 1) Central tendency differences\n",
    "\n",
    "classical = art[art['Source (1 = classical, 2 = modern, 3 = nonhuman)'] == 1]['Number '].tolist()\n",
    "classical_data = data.iloc[:, classical]\n",
    "\n",
    "modern = art[art['Source (1 = classical, 2 = modern, 3 = nonhuman)'] == 2]['Number '].tolist()\n",
    "modern_data = data.iloc[:, modern]\n",
    "\n",
    "mean_classical_art = classical_data.mean().mean()\n",
    "median_classical_art = classical_data.median().median()\n",
    "\n",
    "mean_modern_art = modern_data.mean().mean()\n",
    "median_modern_art = modern_data.median().median()\n"
   ]
  },
  {
   "cell_type": "code",
   "execution_count": 588,
   "id": "b1c4d046",
   "metadata": {},
   "outputs": [
    {
     "data": {
      "image/png": "[encoded data removed]",
      "text/plain": [
       "<Figure size 432x288 with 1 Axes>"
      ]
     },
     "metadata": {
      "needs_background": "light"
     },
     "output_type": "display_data"
    },
    {
     "name": "stdout",
     "output_type": "stream",
     "text": [
      "Mean Clasical art:  4.707142857142856\n",
      "Median Clasical art:  5.0\n",
      "Mean Modern art:  4.210380952380954\n",
      "Median Modern art:  4.0\n"
     ]
    }
   ],
   "source": [
    "# Graph\n",
    "\n",
    "\n",
    "data_ = [classical_data.mean(), modern_data.mean()]\n",
    "\n",
    "\n",
    "labels = ['Classical', 'Modern']\n",
    "\n",
    "\n",
    "fig, ax = plt.subplots()\n",
    "ax.boxplot(data_, labels=labels)\n",
    "ax.set_ylabel('Art Ratings')\n",
    "ax.set_title('Mean Ratings of Classical and Modern Art')\n",
    "plt.show()\n",
    "\n",
    "\n",
    "print(\"Mean Clasical art: \", mean_classical_art)\n",
    "print(\"Median Clasical art: \", median_classical_art)\n",
    "print(\"Mean Modern art: \", mean_modern_art)\n",
    "print(\"Median Modern art: \", median_modern_art)\n",
    "\n",
    "\n"
   ]
  },
  {
   "cell_type": "code",
   "execution_count": 589,
   "id": "af2a7eb9",
   "metadata": {},
   "outputs": [
    {
     "name": "stdout",
     "output_type": "stream",
     "text": [
      "The ratings for classical art are significantly higher than those for modern art.\n"
     ]
    }
   ],
   "source": [
    "# Check if results are significant\n",
    "\n",
    "\n",
    "modern_ratings = modern_data.values.flatten().tolist()\n",
    "classical_ratings = classical_data.values.flatten().tolist()\n",
    "\n",
    "\n",
    "stat, p_value = mannwhitneyu(classical_ratings, modern_ratings , alternative='greater')\n",
    "\n",
    "if p_value < 0.05:\n",
    "    print(\"The ratings for classical art are significantly higher than those for modern art.\")\n",
    "else:\n",
    "    print(\"There is no statistically significant difference in ratings between classical and modern art.\")"
   ]
  },
  {
   "cell_type": "markdown",
   "id": "38c6892e",
   "metadata": {},
   "source": [
    "We understand that the central tendency measures of classical artwork are higher than those of modern art. Then we conducted a statistical test to understand if this difference is statistaclly significant and the result rejected the null hypothesis. For this reason we can claim that there is statistically significant evidence based on these samples that classical art is more well liked than modern art."
   ]
  },
  {
   "cell_type": "markdown",
   "id": "9fae1d7b",
   "metadata": {},
   "source": [
    "## 2)  Is there a difference in the preference ratings for modern art vs. non-human (animals and computers) generated art? "
   ]
  },
  {
   "cell_type": "markdown",
   "id": "5ba6a844",
   "metadata": {},
   "source": [
    "- Perform a 'two-sided' Mann-Whitney U test to show if there is significant difference between ratings\n"
   ]
  },
  {
   "cell_type": "code",
   "execution_count": 590,
   "id": "70d0b1d4",
   "metadata": {},
   "outputs": [
    {
     "data": {
      "image/png": "[encoded data removed]",
      "text/plain": [
       "<Figure size 432x288 with 1 Axes>"
      ]
     },
     "metadata": {
      "needs_background": "light"
     },
     "output_type": "display_data"
    },
    {
     "name": "stdout",
     "output_type": "stream",
     "text": [
      "Non-human Rating Mean:  3.375238095238095\n",
      "Modern Art Rating Mean:  4.210380952380954\n",
      "Non-human Rating Median:  3.0\n",
      "Modern Art Rating Median:  4.0\n"
     ]
    }
   ],
   "source": [
    "non_human = art[art['Source (1 = classical, 2 = modern, 3 = nonhuman)'] == 3]['Number '].tolist()\n",
    "non_human_data = data.iloc[:, non_human]\n",
    "\n",
    "modern = art[art['Source (1 = classical, 2 = modern, 3 = nonhuman)'] == 2]['Number '].tolist()\n",
    "modern_data = data.iloc[:, modern]\n",
    "\n",
    "data_ = [non_human_data.mean(), modern_data.mean()]\n",
    "\n",
    "labels = ['Non-human', 'Modern']\n",
    "\n",
    "fig, ax = plt.subplots()\n",
    "ax.boxplot(data_, labels=labels)\n",
    "ax.set_ylabel('Art Ratings')\n",
    "ax.set_title('Mean Ratings of Non-human and Modern Art')\n",
    "plt.show()\n",
    "\n",
    "#Central Tendemcy\n",
    "\n",
    "print(\"Non-human Rating Mean: \", non_human_data.mean().mean())\n",
    "print(\"Modern Art Rating Mean: \", modern_data.mean().mean())\n",
    "\n",
    "print(\"Non-human Rating Median: \", non_human_data.median().median())\n",
    "print(\"Modern Art Rating Median: \", modern_data.median().median())"
   ]
  },
  {
   "cell_type": "code",
   "execution_count": 591,
   "id": "7d3558e3",
   "metadata": {},
   "outputs": [
    {
     "name": "stdout",
     "output_type": "stream",
     "text": [
      "The difference in ratings between non-human and modern art is statistically significant.\n"
     ]
    }
   ],
   "source": [
    "# Check if results are significant\n",
    "\n",
    "\n",
    "modern_ratings = modern_data.values.flatten().tolist()\n",
    "non_human_data_ratings = non_human_data.values.flatten().tolist()\n",
    "\n",
    "\n",
    "stat, p_value = mannwhitneyu(non_human_data_ratings, modern_ratings, alternative='two-sided')\n",
    "\n",
    "if p_value < 0.05:\n",
    "    print(\"The difference in ratings between non-human and modern art is statistically significant.\")\n",
    "else:\n",
    "    print(\"There is no statistically significant difference in ratings between non-human and modern art.\")"
   ]
  },
  {
   "cell_type": "markdown",
   "id": "f7b126fd",
   "metadata": {},
   "source": [
    "We observe the difference between central tendencies of 'non_human' vs 'modern' artwork ratings. Then we perform a 'two-sided' Mann-Whitney U test to conclude that the difference in ratings between non-human and modern art is statistically significant based on this dataset."
   ]
  },
  {
   "cell_type": "markdown",
   "id": "d8886fde",
   "metadata": {},
   "source": [
    "## 3) Do women give higher art preference ratings than men? "
   ]
  },
  {
   "cell_type": "markdown",
   "id": "05dd298e",
   "metadata": {},
   "source": [
    "- Find central tendency differences between ratings by 'women' compared to ratings by \"men\"\n",
    "- Identify if this difference is statistically significant"
   ]
  },
  {
   "cell_type": "code",
   "execution_count": 592,
   "id": "9534cd11",
   "metadata": {},
   "outputs": [
    {
     "data": {
      "image/png": "[encoded data removed]",
      "text/plain": [
       "<Figure size 432x288 with 1 Axes>"
      ]
     },
     "metadata": {
      "needs_background": "light"
     },
     "output_type": "display_data"
    },
    {
     "name": "stdout",
     "output_type": "stream",
     "text": [
      "Men Rating Mean:  4.17912087912088\n",
      "Women Rating Mean:  4.147852147852149\n",
      "Men Rating Median:  4.0\n",
      "Women Rating Median:  4.0\n"
     ]
    }
   ],
   "source": [
    "# Central Tendency measuerements\n",
    "\n",
    "men_df = data[data['gender'] == 1]\n",
    "women_df = data[data['gender'] == 2]\n",
    "\n",
    "men_df = men_df[:91].dropna()\n",
    "women_df = women_df[:91].dropna()\n",
    "\n",
    "men_df = men_df.iloc[:, :91]\n",
    "women_df = women_df.iloc[:, :91]\n",
    "\n",
    "women_ratings = women_df.values.flatten().tolist()\n",
    "men_ratings = men_df.values.flatten().tolist()\n",
    "\n",
    "data_ = [men_df[:91].mean(), women_df[:91].mean()]\n",
    "\n",
    "\n",
    "labels = ['Men', 'Women']\n",
    "\n",
    "fig, ax = plt.subplots()\n",
    "ax.boxplot(data_, labels=labels)\n",
    "ax.set_ylabel('Art Ratings')\n",
    "ax.set_title('Mean Ratings of Men and Women')\n",
    "plt.show()\n",
    "\n",
    "\n",
    "# Central Tendency\n",
    "\n",
    "print(\"Men Rating Mean: \", men_df[:91].mean().mean())\n",
    "print(\"Women Rating Mean: \", women_df[:91].mean().mean())\n",
    "\n",
    "print(\"Men Rating Median: \", men_df[:91].median().median())\n",
    "print(\"Women Rating Median: \", women_df[:91].median().median())\n"
   ]
  },
  {
   "cell_type": "code",
   "execution_count": 593,
   "id": "0726ed76",
   "metadata": {},
   "outputs": [
    {
     "name": "stdout",
     "output_type": "stream",
     "text": [
      "There is no significant difference in ratings between men and women.\n"
     ]
    }
   ],
   "source": [
    "\n",
    "stat, p_value = stats.ttest_ind(women_ratings, men_ratings, equal_var=False)\n",
    "\n",
    "if p_value / 2 < 0.05:\n",
    "    if t_stat < 0:\n",
    "        print(\"Women rate significantly higher than men.\")\n",
    "    else:\n",
    "        print(\"Men rate significantly higher than women.\")\n",
    "else:\n",
    "    print(\"There is no significant difference in ratings between men and women.\")"
   ]
  },
  {
   "cell_type": "markdown",
   "id": "e1a613a9",
   "metadata": {},
   "source": [
    "We understood the difference of central tendencies of \"Men\" ratings vs \"Women\" ratings and learned their means were different but medians were equal. We then tested to see if this result was statistically significant using a ilcoxon-Mann-Whitney  test to understand the difference we found in their mean and determined the ratings by women are not significanlty higher than men according to this dataset."
   ]
  },
  {
   "cell_type": "markdown",
   "id": "b689035d",
   "metadata": {},
   "source": [
    "## 4) Is there a difference in the preference ratings of users with some art background (some art education) vs. none? "
   ]
  },
  {
   "cell_type": "markdown",
   "id": "33d38d99",
   "metadata": {},
   "source": [
    "- Compare central tendency measures of ratings between people who have had some \"art education\" vs those who haven't"
   ]
  },
  {
   "cell_type": "code",
   "execution_count": 594,
   "id": "86639d33",
   "metadata": {},
   "outputs": [
    {
     "data": {
      "image/png": "[encoded data removed]",
      "text/plain": [
       "<Figure size 432x288 with 1 Axes>"
      ]
     },
     "metadata": {
      "needs_background": "light"
     },
     "output_type": "display_data"
    },
    {
     "name": "stdout",
     "output_type": "stream",
     "text": [
      "Some Education Mean:  4.142615626132109\n",
      "No Education Mean:  4.294529646177998\n",
      "Some Education Median:  4.0\n",
      "No Education Median:  4.0\n"
     ]
    }
   ],
   "source": [
    "some_education = data[data['art_education'] > 0][:91]\n",
    "no_education = data[data['art_education'] == 0][:91]\n",
    "\n",
    "no_education = no_education.iloc[:, :91]\n",
    "some_education = some_education.iloc[:, :91]\n",
    "\n",
    "data_ = [some_education[:91].mean(), no_education[:91].mean()]\n",
    "\n",
    "labels = ['No Education', 'Some Education']\n",
    "\n",
    "fig, ax = plt.subplots()\n",
    "ax.boxplot(data_, labels=labels)\n",
    "ax.set_ylabel('Art Ratings')\n",
    "ax.set_title('Mean Ratings of \"No Education\" and \"Some Education\"')\n",
    "plt.show()\n",
    "\n",
    "\n",
    "# Central Tendency\n",
    "\n",
    "print(\"Some Education Mean: \", some_education[:91].mean().mean())\n",
    "print(\"No Education Mean: \", no_education[:91].mean().mean())\n",
    "\n",
    "print(\"Some Education Median: \", some_education[:91].median().median())\n",
    "print(\"No Education Median: \", no_education[:91].median().median())\n"
   ]
  },
  {
   "cell_type": "code",
   "execution_count": 595,
   "id": "337dcdae",
   "metadata": {},
   "outputs": [
    {
     "name": "stdout",
     "output_type": "stream",
     "text": [
      "The ratings by 'some_education_ratings' are significantly different than 'no_education_ratings'.\n"
     ]
    }
   ],
   "source": [
    "no_education = no_education[:91].dropna()\n",
    "some_education = some_education[:91].dropna()\n",
    "\n",
    "no_education = no_education.iloc[:, :91]\n",
    "some_education = some_education.iloc[:, :91]\n",
    "\n",
    "some_education_ratings = some_education[:91].values.flatten().tolist()\n",
    "no_education_ratings = no_education[:91].values.flatten().tolist()\n",
    "\n",
    "\n",
    "t_stat, p_val = stats.ttest_ind(some_education_ratings, no_education_ratings, equal_var=False)\n",
    "\n",
    "if p_val < 0.05:\n",
    "    print(\"The ratings by 'some_education_ratings' are significantly different than 'no_education_ratings'.\")\n",
    "else:\n",
    "    print(\"The ratings by 'some_education_ratings' are not significantly different than 'no_education_ratings'.\")\n"
   ]
  },
  {
   "cell_type": "markdown",
   "id": "14767f06",
   "metadata": {},
   "source": [
    "## 5) Build a regression model to predict art preference ratings from energy ratings only. Make sure to use cross-validation methods to avoid overfitting and characterize how well your model predicts art preference ratings"
   ]
  },
  {
   "cell_type": "markdown",
   "id": "faee4164",
   "metadata": {},
   "source": [
    "- Perform EDA: Find coorelation betweeen energy ratings and art preference ratings, outliers and distribution of ratings\n",
    "- Build regression model to predict art preference ratings from energy ratings only\n",
    "- Analyze findings"
   ]
  },
  {
   "cell_type": "code",
   "execution_count": 596,
   "id": "073631a8",
   "metadata": {},
   "outputs": [
    {
     "name": "stdout",
     "output_type": "stream",
     "text": [
      "Pearson correlation coefficient: -0.0156\n",
      "Spearman coefficient: 0.1681\n"
     ]
    }
   ],
   "source": [
    "energy = data.iloc[:, 91:182]\n",
    "ratings = data.iloc[:, :91]\n",
    "\n",
    "corr_coef, p_value = pearsonr(energy.values.flatten(), ratings.values.flatten())\n",
    "print(\"Pearson correlation coefficient: {:.4f}\".format(corr_coef))\n",
    "spearman_coef, _ = spearmanr(pref_ene['avg_energy_ratings'], pref_ene['avg_preference_ratings'])\n",
    "print('Spearman coefficient: {:.4f}'.format(spearman_coef))\n",
    "\n"
   ]
  },
  {
   "cell_type": "code",
   "execution_count": 597,
   "id": "864ecc57",
   "metadata": {},
   "outputs": [
    {
     "name": "stdout",
     "output_type": "stream",
     "text": [
      "R^2 -0.0468221954358079\n",
      "Root Mean Squared Error (RMSE): 0.5624\n"
     ]
    }
   ],
   "source": [
    "energy = data.iloc[:, 91:182]\n",
    "ratings = data.iloc[:, :91]\n",
    "\n",
    "pref_ene = pd.DataFrame({\n",
    "    'avg_preference_ratings': ratings.mean(axis=1),\n",
    "    'avg_energy_ratings': energy.mean(axis=1)\n",
    "})\n",
    "\n",
    "X_train, X_test, y_train, y_test = train_test_split(pref_ene['avg_energy_ratings'].values.reshape(-1, 1), pref_ene['avg_preference_ratings'].values.reshape(-1, 1), test_size=0.4, random_state=seed_value)\n",
    "model = LinearRegression().fit(X_train, y_train)\n",
    "y_pred = model.predict(X_test)\n",
    "\n",
    "r_squared = model.score(X_test, y_test)\n",
    "print('R^2', r_squared)\n",
    "\n",
    "mse = mean_squared_error(y_test, y_pred)\n",
    "rmse = np.sqrt(mse)\n",
    "print(\"Root Mean Squared Error (RMSE): {:.4f}\".format(rmse))\n",
    "\n"
   ]
  },
  {
   "cell_type": "code",
   "execution_count": 598,
   "id": "98135c1b",
   "metadata": {},
   "outputs": [
    {
     "data": {
      "image/png": "[encoded data removed]",
      "text/plain": [
       "<Figure size 432x288 with 1 Axes>"
      ]
     },
     "metadata": {
      "needs_background": "light"
     },
     "output_type": "display_data"
    }
   ],
   "source": [
    "plt.scatter(X_test, y_test)\n",
    "plt.plot(X_test, y_pred, color='red', linewidth=2)\n",
    "plt.xlabel('Average Energy Rating')\n",
    "plt.ylabel('Average Preference Rating')\n",
    "plt.title('Correlation between Energy Rating and Preference Rating')\n",
    "plt.show()\n"
   ]
  },
  {
   "cell_type": "markdown",
   "id": "77c12ed6",
   "metadata": {},
   "source": [
    "## 6) Build a regression model to predict art preference ratings from energy ratings and demographic information. Make sure to use cross-validation methods to avoid overfitting and comment on how well your model predicts relative to the “energy ratings only” model. "
   ]
  },
  {
   "cell_type": "markdown",
   "id": "cca25481",
   "metadata": {},
   "source": [
    "- 1) Normalize data\n",
    "- 2) Conduct coorleation tests to first understand possible relationships between demographics and energy ratings, this could be helpful to reduce confounders\n",
    "- 3) Conduct coorelation test to understand relationship between demographics and raitngs considering what we found in the prevoious tests\n",
    "- 3) Conduct multivariable regression to predict ratings from energy ratings as well as demographics"
   ]
  },
  {
   "cell_type": "code",
   "execution_count": 599,
   "id": "785b684d",
   "metadata": {},
   "outputs": [],
   "source": [
    "demo = data.iloc[:, 215:217]\n",
    "energy = data.iloc[:, 91:182]\n",
    "ratings = data.iloc[:, :91]"
   ]
  },
  {
   "cell_type": "code",
   "execution_count": 600,
   "id": "0e3f1c9a",
   "metadata": {},
   "outputs": [],
   "source": [
    "demo_en_pr = pd.DataFrame({\n",
    "    'avg_preference_ratings': ratings.mean(axis=1),\n",
    "    'avg_energy_ratings': energy.mean(axis=1),\n",
    "    'age': demo_en_pr['age'],\n",
    "    'gender': demo_en_pr['gender'],\n",
    "})\n"
   ]
  },
  {
   "cell_type": "code",
   "execution_count": 601,
   "id": "27fe5931",
   "metadata": {},
   "outputs": [
    {
     "data": {
      "text/html": [
       "<div>\n",
       "<style scoped>\n",
       "    .dataframe tbody tr th:only-of-type {\n",
       "        vertical-align: middle;\n",
       "    }\n",
       "\n",
       "    .dataframe tbody tr th {\n",
       "        vertical-align: top;\n",
       "    }\n",
       "\n",
       "    .dataframe thead th {\n",
       "        text-align: right;\n",
       "    }\n",
       "</style>\n",
       "<table border=\"1\" class=\"dataframe\">\n",
       "  <thead>\n",
       "    <tr style=\"text-align: right;\">\n",
       "      <th></th>\n",
       "      <th>avg_preference_ratings</th>\n",
       "      <th>avg_energy_ratings</th>\n",
       "      <th>age</th>\n",
       "      <th>gender</th>\n",
       "    </tr>\n",
       "  </thead>\n",
       "  <tbody>\n",
       "    <tr>\n",
       "      <th>avg_preference_ratings</th>\n",
       "      <td>1.000000</td>\n",
       "      <td>0.320264</td>\n",
       "      <td>-0.108275</td>\n",
       "      <td>0.040645</td>\n",
       "    </tr>\n",
       "    <tr>\n",
       "      <th>avg_energy_ratings</th>\n",
       "      <td>0.320264</td>\n",
       "      <td>1.000000</td>\n",
       "      <td>0.156726</td>\n",
       "      <td>0.017537</td>\n",
       "    </tr>\n",
       "    <tr>\n",
       "      <th>age</th>\n",
       "      <td>-0.108275</td>\n",
       "      <td>0.156726</td>\n",
       "      <td>1.000000</td>\n",
       "      <td>-0.122822</td>\n",
       "    </tr>\n",
       "    <tr>\n",
       "      <th>gender</th>\n",
       "      <td>0.040645</td>\n",
       "      <td>0.017537</td>\n",
       "      <td>-0.122822</td>\n",
       "      <td>1.000000</td>\n",
       "    </tr>\n",
       "  </tbody>\n",
       "</table>\n",
       "</div>"
      ],
      "text/plain": [
       "                        avg_preference_ratings  avg_energy_ratings       age  \\\n",
       "avg_preference_ratings                1.000000            0.320264 -0.108275   \n",
       "avg_energy_ratings                    0.320264            1.000000  0.156726   \n",
       "age                                  -0.108275            0.156726  1.000000   \n",
       "gender                                0.040645            0.017537 -0.122822   \n",
       "\n",
       "                          gender  \n",
       "avg_preference_ratings  0.040645  \n",
       "avg_energy_ratings      0.017537  \n",
       "age                    -0.122822  \n",
       "gender                  1.000000  "
      ]
     },
     "execution_count": 601,
     "metadata": {},
     "output_type": "execute_result"
    }
   ],
   "source": [
    "demo_en_pr.corr()"
   ]
  },
  {
   "cell_type": "code",
   "execution_count": 602,
   "id": "8756dd68",
   "metadata": {},
   "outputs": [
    {
     "name": "stdout",
     "output_type": "stream",
     "text": [
      "R^2: 0.20508343516610827\n",
      "RMSE: 0.6247885167384617\n"
     ]
    }
   ],
   "source": [
    "# Regression\n",
    "\n",
    "demo_en_pr = demo_en_pr.dropna()\n",
    "\n",
    "X_train, X_test, y_train, y_test = train_test_split(demo_en_pr.drop('avg_preference_ratings', axis=1), \n",
    "                                                    demo_en_pr['avg_preference_ratings'], \n",
    "                                                    test_size=0.3, \n",
    "                                                    random_state= seed_value)\n",
    "\n",
    "scaler = StandardScaler()\n",
    "X_train_scaled = scaler.fit_transform(X_train)\n",
    "X_test_scaled = scaler.transform(X_test)\n",
    "\n",
    "model = LinearRegression()\n",
    "model.fit(X_train_scaled, y_train)\n",
    "\n",
    "y_pred = model.predict(X_test_scaled)\n",
    "\n",
    "\n",
    "r2 = r2_score(y_test, y_pred)\n",
    "print('R^2:', r2)\n",
    "rmse = mean_squared_error(y_test, y_pred, squared=False)\n",
    "print('RMSE:', rmse)"
   ]
  },
  {
   "cell_type": "code",
   "execution_count": 603,
   "id": "9621d645",
   "metadata": {},
   "outputs": [
    {
     "data": {
      "image/png": "[encoded data removed]",
      "text/plain": [
       "<Figure size 432x288 with 1 Axes>"
      ]
     },
     "metadata": {
      "needs_background": "light"
     },
     "output_type": "display_data"
    }
   ],
   "source": [
    "plt.scatter(y_test, y_pred)\n",
    "plt.plot([y_test.min(), y_test.max()], [y_test.min(), y_test.max()], 'k--', lw=2)\n",
    "plt.xlabel('Actual Preference Ratings')\n",
    "plt.ylabel('Predicted Preference Ratings')\n",
    "plt.title('Regression Model Performance')\n",
    "plt.show()\n"
   ]
  },
  {
   "cell_type": "markdown",
   "id": "335d0625",
   "metadata": {},
   "source": [
    "## 7) Considering the 2D space of average preference ratings vs. average energy rating (that contains the 91 art pieces as elements), how many clusters can you – algorithmically - identify in this space? Make sure to comment on the identity of the clusters – do they correspond to particular types of art?"
   ]
  },
  {
   "cell_type": "markdown",
   "id": "6693356f",
   "metadata": {},
   "source": [
    "- I will use both the elbow method to indetify the number of clusters to use in the K-means algorithm. \n",
    "- After Identifying the optimal number of clusters for my algorithm I will perform a k-means classification to distinguish both clusters and make inferences on how they are different"
   ]
  },
  {
   "cell_type": "code",
   "execution_count": 604,
   "id": "459da6a0",
   "metadata": {},
   "outputs": [
    {
     "data": {
      "image/png": "[encoded data removed]",
      "text/plain": [
       "<Figure size 432x288 with 1 Axes>"
      ]
     },
     "metadata": {
      "needs_background": "light"
     },
     "output_type": "display_data"
    }
   ],
   "source": [
    "preference_cols = data.iloc[:, 0:91]\n",
    "energy_cols = data.iloc[:, 91:182]\n",
    "\n",
    "avg_preference = preference_cols.mean(axis=0)\n",
    "avg_energy = energy_cols.mean(axis=0)\n",
    "\n",
    "art_data = pd.concat([avg_preference, avg_energy], axis=1)\n",
    "art_data.columns = ['Preference', 'Energy']\n",
    "X = art_data[['Preference', 'Energy']]\n",
    "\n",
    "range_n_clusters = range(2, 10)\n",
    "\n",
    "# Elbow Method\n",
    "distortions = []\n",
    "for n_clusters in range_n_clusters:\n",
    "    clusterer = KMeans(n_clusters=n_clusters, random_state= seed_value)\n",
    "    cluster_labels = clusterer.fit_predict(X)\n",
    "    distortion = clusterer.inertia_\n",
    "    distortions.append(distortion)\n",
    "\n",
    "\n",
    "wss = []\n",
    "\n",
    "for k in range(1, 11):\n",
    "    kmeans = KMeans(n_clusters=k, random_state=seed_value )\n",
    "    kmeans.fit(art_data)\n",
    "    wss.append(kmeans.inertia_)\n",
    "\n",
    "# Plot for elbow method\n",
    "plt.plot(range(1, 11), wss, marker='o')\n",
    "plt.xlabel('Number of clusters')\n",
    "plt.ylabel('WSS')\n",
    "plt.title('Elbow Method for Optimal k')\n",
    "plt.show()"
   ]
  },
  {
   "cell_type": "code",
   "execution_count": 605,
   "id": "245b1980",
   "metadata": {},
   "outputs": [
    {
     "data": {
      "image/png": "[encoded data removed]",
      "text/plain": [
       "<Figure size 576x576 with 1 Axes>"
      ]
     },
     "metadata": {
      "needs_background": "light"
     },
     "output_type": "display_data"
    }
   ],
   "source": [
    "kmeans = KMeans(n_clusters=4, random_state = random_seed)\n",
    "\n",
    "kmeans.fit(art_data[['Energy', 'Preference']])\n",
    "\n",
    "labels = kmeans.labels_\n",
    "\n",
    "art_data['cluster'] = labels\n",
    "\n",
    "\n",
    "plt.figure(figsize=(8, 8))\n",
    "plt.scatter(art_data['Energy'], art_data['Preference'], c=art_data['cluster'])\n",
    "plt.xlabel('Average Energy Rating')\n",
    "plt.ylabel('Average Preference Rating')\n",
    "plt.title('K-Means Clustering')\n",
    "plt.show()\n"
   ]
  },
  {
   "cell_type": "code",
   "execution_count": 606,
   "id": "0ce276f6",
   "metadata": {},
   "outputs": [
    {
     "name": "stdout",
     "output_type": "stream",
     "text": [
      "Mean energy and preference ratings for each cluster:\n",
      "\n",
      "\n",
      "Cluster 0: Energy        3.961204\n",
      "Preference    4.147222\n",
      "dtype: float64\n",
      "\n",
      "\n",
      "Cluster 1: Energy        3.593030\n",
      "Preference    5.180455\n",
      "dtype: float64\n",
      "\n",
      "\n",
      "Cluster 2: Energy        4.248235\n",
      "Preference    3.015882\n",
      "dtype: float64\n",
      "\n",
      "\n",
      "Cluster 3: Energy        4.747708\n",
      "Preference    4.366458\n",
      "dtype: float64\n"
     ]
    }
   ],
   "source": [
    "cluster0 = art_data[art_data['cluster'] == 0]\n",
    "cluster1 = art_data[art_data['cluster'] == 1]\n",
    "cluster2 = art_data[art_data['cluster'] == 2]\n",
    "cluster3 = art_data[art_data['cluster'] == 3]\n",
    "\n",
    "cluster0_mean = cluster0[['Energy', 'Preference']].mean()\n",
    "cluster1_mean = cluster1[['Energy', 'Preference']].mean()\n",
    "cluster2_mean = cluster2[['Energy', 'Preference']].mean()\n",
    "cluster3_mean = cluster3[['Energy', 'Preference']].mean()\n",
    "\n",
    "print(\"Mean energy and preference ratings for each cluster:\")\n",
    "print()\n",
    "print()\n",
    "print(\"Cluster 0:\", cluster0_mean)\n",
    "print()\n",
    "print()\n",
    "print(\"Cluster 1:\", cluster1_mean)\n",
    "print()\n",
    "print()\n",
    "print(\"Cluster 2:\", cluster2_mean)\n",
    "print()\n",
    "print()\n",
    "print(\"Cluster 3:\", cluster3_mean)\n"
   ]
  },
  {
   "cell_type": "markdown",
   "id": "bbc6354a",
   "metadata": {},
   "source": [
    "- Here we understand there are 4 clusters representing, high energy high preference, low energy low preference, low energy high preference, high energy high preference\n",
    "- Based on these differences we analyze which artworks are associated to each cluster to see if there is ant relationship between art types and cluster"
   ]
  },
  {
   "cell_type": "code",
   "execution_count": 607,
   "id": "15776cc4",
   "metadata": {},
   "outputs": [],
   "source": [
    "art_data.reset_index(inplace=True)\n",
    "art_data.rename(columns={'index': 'artwork_id'}, inplace=True)"
   ]
  },
  {
   "cell_type": "code",
   "execution_count": 608,
   "id": "54ec8c8e",
   "metadata": {},
   "outputs": [],
   "source": [
    "cluster_0 = art_data[art_data['cluster'] == 0][['artwork_id', 'Energy', 'Preference', 'cluster']]\n",
    "cluster_1 = art_data[art_data['cluster'] == 1][['artwork_id', 'Energy', 'Preference', 'cluster']]\n",
    "cluster_2 = art_data[art_data['cluster'] == 2][['artwork_id', 'Energy', 'Preference', 'cluster']]\n",
    "cluster_3 = art_data[art_data['cluster'] == 3][['artwork_id', 'Energy', 'Preference', 'cluster']]"
   ]
  },
  {
   "cell_type": "code",
   "execution_count": 609,
   "id": "75d800ef",
   "metadata": {},
   "outputs": [],
   "source": [
    "cluster_0 = cluster_0.merge(art[['Number ','Year' ,'Style', 'Source (1 = classical, 2 = modern, 3 = nonhuman)']], left_on='artwork_id', right_on='Number ')\n",
    "cluster_1 = cluster_1.merge(art[['Number ', 'Year' , 'Style', 'Source (1 = classical, 2 = modern, 3 = nonhuman)']], left_on='artwork_id', right_on='Number ')\n",
    "cluster_2 = cluster_2.merge(art[['Number ', 'Year' , 'Style', 'Source (1 = classical, 2 = modern, 3 = nonhuman)']], left_on='artwork_id', right_on='Number ')\n",
    "cluster_3 = cluster_3.merge(art[['Number ', 'Year' , 'Style','Source (1 = classical, 2 = modern, 3 = nonhuman)']], left_on='artwork_id', right_on='Number ')\n",
    "\n",
    "cluster_0.drop(columns=['Number '], inplace=True)\n",
    "cluster_1.drop(columns=['Number '], inplace=True)\n",
    "cluster_2.drop(columns=['Number '], inplace=True)\n",
    "cluster_3.drop(columns=['Number '], inplace=True)\n"
   ]
  },
  {
   "cell_type": "code",
   "execution_count": 610,
   "id": "b613bbb0",
   "metadata": {},
   "outputs": [
    {
     "name": "stdout",
     "output_type": "stream",
     "text": [
      "Cluster 0 (Medium Energy Medium Preference): Modal Decade of artworks in this cluster:  20\n",
      "Cluster 1 (Low Energy High Preference): Modal Decade of artworks in this cluster:  18\n",
      "Cluster 2 (High Energy Low Preference): Modal Decade of artworks in this cluster:  20\n",
      "Cluster 3 (High Energy High Preference): Modal Decade of artworks in this cluster: 19\n"
     ]
    }
   ],
   "source": [
    "cluster_0['Century'] = cluster_0['Year'].apply(lambda x: round(x, -2) // 100)\n",
    "cluster_1['Century'] = cluster_1['Year'].apply(lambda x: round(x, -2) // 100)\n",
    "cluster_2['Century'] = cluster_2['Year'].apply(lambda x: round(x, -2) // 100)\n",
    "cluster_3['Century'] = cluster_3['Year'].apply(lambda x: round(x, -2) // 100)\n",
    "\n",
    "\n",
    "print('Cluster 0 (Medium Energy Medium Preference): Modal Decade of artworks in this cluster: ', cluster_0['Century'].mode()[0])\n",
    "print('Cluster 1 (Low Energy High Preference): Modal Decade of artworks in this cluster: ', cluster_1['Century'].mode()[0])\n",
    "print('Cluster 2 (High Energy Low Preference): Modal Decade of artworks in this cluster: ', cluster_2['Century'].mode()[0])\n",
    "print('Cluster 3 (High Energy High Preference): Modal Decade of artworks in this cluster:', cluster_3['Century'].mode()[0])\n"
   ]
  },
  {
   "cell_type": "markdown",
   "id": "ebbaffe1",
   "metadata": {},
   "source": [
    "- Best central tendency measure in this case is the mode because it provided the best insight at the most common time frames where artworks in each cluster were made. The mean is sensitive to outliers which can be very common in this specific analysis of years. Converted the analysis to every 100 years because our data is not large enough for the mode of specific years to provide considerable insight, I arbitrarily chose 100 years as range for artworks."
   ]
  },
  {
   "cell_type": "code",
   "execution_count": 611,
   "id": "a0b5d430",
   "metadata": {},
   "outputs": [
    {
     "data": {
      "image/png": "[encoded data removed]",
      "text/plain": [
       "<Figure size 432x288 with 1 Axes>"
      ]
     },
     "metadata": {
      "needs_background": "light"
     },
     "output_type": "display_data"
    }
   ],
   "source": [
    "cluster_0_year = cluster_0['Year']\n",
    "cluster_1_year = cluster_1['Year']\n",
    "cluster_2_year = cluster_2['Year']\n",
    "cluster_3_year = cluster_3['Year']\n",
    "\n",
    "centuries = range(1600, 2100, 100)\n",
    "\n",
    "num_artworks = {\n",
    "    'Cluster 0': [((cluster_0_year >= century) & (cluster_0_year < century+100)).sum() for century in centuries],\n",
    "    'Cluster 1': [((cluster_1_year >= century) & (cluster_1_year < century+100)).sum() for century in centuries],\n",
    "    'Cluster 2': [((cluster_2_year >= century) & (cluster_2_year < century+100)).sum() for century in centuries],\n",
    "    'Cluster 3': [((cluster_3_year >= century) & (cluster_3_year < century+100)).sum() for century in centuries]\n",
    "}\n",
    "\n",
    "fig, ax = plt.subplots()\n",
    "ax.bar(centuries, num_artworks['Cluster 0'], width=80, label='(Medium Energy Medium Preference)')\n",
    "ax.bar(centuries, num_artworks['Cluster 1'], width=80, bottom=num_artworks['Cluster 0'], label='(Low Energy High Preference)')\n",
    "ax.bar(centuries, num_artworks['Cluster 2'], width=80, bottom=[sum(x) for x in zip(num_artworks['Cluster 0'], num_artworks['Cluster 1'])], label='(High Energy Low Preference)')\n",
    "ax.bar(centuries, num_artworks['Cluster 3'], width=80, bottom=[sum(x) for x in zip(num_artworks['Cluster 0'], num_artworks['Cluster 1'], num_artworks['Cluster 2'])], label='(High Energy High Preference)')\n",
    "ax.set_xlabel('Century')\n",
    "ax.set_ylabel('Number of Artworks')\n",
    "ax.set_title('Number of Artworks per Century and Cluster')\n",
    "ax.legend()\n",
    "plt.show()\n",
    "\n"
   ]
  },
  {
   "cell_type": "markdown",
   "id": "f487c83a",
   "metadata": {},
   "source": [
    "## 8) Considering only the first principal component of the self-image ratings as inputs to a regression model – how well can you predict art preference ratings from that factor alone?"
   ]
  },
  {
   "cell_type": "markdown",
   "id": "a928e45b",
   "metadata": {},
   "source": [
    "- 1) Identify \"self_image\" ratings\n",
    "- 2) Perform PCA of this inputs\n",
    "- 3) Create Screeplot\n",
    "- 4) Understand what is the first principal component and isolate this data to become useful for analisis\n",
    "- 5) Perform regression from only that factor\n",
    "- 6) Analyze regression results"
   ]
  },
  {
   "cell_type": "code",
   "execution_count": 612,
   "id": "6cd626be",
   "metadata": {},
   "outputs": [],
   "source": [
    "df = data.iloc[:, :91].join(data.iloc[:, 205:214], rsuffix='_self_image')\n",
    "df = df.dropna()"
   ]
  },
  {
   "cell_type": "code",
   "execution_count": 613,
   "id": "c45a28ec",
   "metadata": {},
   "outputs": [],
   "source": [
    "\n",
    "\n",
    "self_image = df.iloc[:, 91: 100]\n",
    "pca = PCA(n_components=1)\n",
    "self_image_pca = pca.fit_transform(self_image)\n",
    "\n"
   ]
  },
  {
   "cell_type": "code",
   "execution_count": 614,
   "id": "9cde022e",
   "metadata": {},
   "outputs": [],
   "source": [
    "\n",
    "preference = df.iloc[:, 0: 91]\n"
   ]
  },
  {
   "cell_type": "code",
   "execution_count": 615,
   "id": "1a91626e",
   "metadata": {},
   "outputs": [
    {
     "name": "stdout",
     "output_type": "stream",
     "text": [
      "-0.041402589021116154\n"
     ]
    }
   ],
   "source": [
    "regression_df = pd.DataFrame({\n",
    "    'avg_preference_ratings': preference.mean(axis=1),\n",
    "    'self_image_pca': self_image_pca.flatten()\n",
    "})\n",
    "\n",
    "\n",
    "corr_matrix = regression_df.corr()\n",
    "\n",
    "print(corr_matrix.iloc[0, 1])"
   ]
  },
  {
   "cell_type": "code",
   "execution_count": 616,
   "id": "3dcfc4f3",
   "metadata": {},
   "outputs": [
    {
     "data": {
      "image/png": "[encoded data removed]",
      "text/plain": [
       "<Figure size 432x288 with 1 Axes>"
      ]
     },
     "metadata": {
      "needs_background": "light"
     },
     "output_type": "display_data"
    }
   ],
   "source": [
    "\n",
    "regression_df.plot(kind='scatter', x='self_image_pca', y='avg_preference_ratings')\n",
    "plt.xlabel('Self-image PCA')\n",
    "plt.ylabel('Average preference ratings')\n",
    "plt.title('Scatter plot of Self-image PCA vs. Average preference ratings')\n",
    "plt.show()"
   ]
  },
  {
   "cell_type": "code",
   "execution_count": 617,
   "id": "a92b56b1",
   "metadata": {},
   "outputs": [
    {
     "name": "stdout",
     "output_type": "stream",
     "text": [
      "RMSE: 0.6361\n",
      "R^2: 0.0017\n"
     ]
    }
   ],
   "source": [
    "X = regression_df[['self_image_pca']]\n",
    "y = regression_df['avg_preference_ratings']\n",
    "\n",
    "model = LinearRegression().fit(X, y)\n",
    "\n",
    "y_pred = model.predict(X)\n",
    "\n",
    "from sklearn.metrics import mean_squared_error\n",
    "rmse = mean_squared_error(y, y_pred, squared=False)\n",
    "\n",
    "print(\"RMSE: {:.4f}\".format(rmse))\n",
    "\n",
    "r_squared = model.score(X, y)\n",
    "\n",
    "print(\"R^2: {:.4f}\".format(r_squared))\n"
   ]
  },
  {
   "cell_type": "markdown",
   "id": "eb2ff014",
   "metadata": {},
   "source": [
    "## 9) Consider the first 3 principal components of the “dark personality” traits – use these as inputs to a regression model to predict art preference ratings. Which of these components significantly predict art preference ratings? Comment on the likely identity of these factors (e.g. narcissism, manipulativeness, callousness, etc.)."
   ]
  },
  {
   "cell_type": "code",
   "execution_count": 618,
   "id": "58a255b9",
   "metadata": {},
   "outputs": [],
   "source": [
    "data = pd.read_excel('data_try2.xlsx')\n",
    "df = data.iloc[:, :91].join(data.iloc[:, 182:195], rsuffix='_dark_traits')\n",
    "df = df.dropna()"
   ]
  },
  {
   "cell_type": "code",
   "execution_count": 619,
   "id": "22f73120",
   "metadata": {},
   "outputs": [],
   "source": [
    "\n",
    "dark_traits = df.iloc[:, 91 : 102]\n",
    "pca = PCA(n_components=3)\n",
    "dark_traits_pca = pca.fit_transform(dark_traits)"
   ]
  },
  {
   "cell_type": "code",
   "execution_count": 620,
   "id": "e915e56b",
   "metadata": {},
   "outputs": [
    {
     "name": "stdout",
     "output_type": "stream",
     "text": [
      "                   PC1       PC2       PC3\n",
      "Unnamed: 182  0.911561 -0.092412  0.336739\n",
      "Unnamed: 183  0.645093 -0.161394 -0.118023\n",
      "Unnamed: 184  0.535857 -0.530849  0.112578\n",
      "Unnamed: 185  0.800254  0.130031  0.327817\n",
      "Unnamed: 186  0.649545  0.625378  0.145914\n",
      "Unnamed: 187  0.660475  0.509310  0.267037\n",
      "Unnamed: 188  0.714159  0.381098 -0.315075\n",
      "Unnamed: 189  0.569051  0.098355 -1.056326\n",
      "Unnamed: 190  0.319588 -0.466827 -0.126559\n",
      "Unnamed: 191  0.390604 -0.573567 -0.014986\n",
      "Unnamed: 192  0.613349 -0.535987  0.077907\n"
     ]
    }
   ],
   "source": [
    "loadings = pca.components_.T * np.sqrt(pca.explained_variance_)\n",
    "loadings_df = pd.DataFrame(loadings, columns=['PC1', 'PC2', 'PC3'], index=df.columns[91:102])\n",
    "print(loadings_df)"
   ]
  },
  {
   "cell_type": "code",
   "execution_count": 621,
   "id": "26de26d9",
   "metadata": {},
   "outputs": [
    {
     "data": {
      "image/png": "[encoded data removed]",
      "text/plain": [
       "<Figure size 432x288 with 1 Axes>"
      ]
     },
     "metadata": {
      "needs_background": "light"
     },
     "output_type": "display_data"
    }
   ],
   "source": [
    "#PC 1: Loadings analisis\n",
    "\n",
    "# Get the correlation coefficients between variables and PC1\n",
    "pc1_loadings = pca.components_[0]\n",
    "\n",
    "# Create a bar plot to show the correlations for PC1\n",
    "plt.bar(range(len(pc1_loadings)), pc1_loadings)\n",
    "plt.xticks(range(len(pc1_loadings)), dark_traits.columns, rotation=90)\n",
    "plt.ylabel('Correlation Coefficient')\n",
    "plt.xlabel('Dark Traits Questions')\n",
    "plt.title('Correlation Coefficients for PC1')\n",
    "plt.show()\n",
    "\n"
   ]
  },
  {
   "cell_type": "markdown",
   "id": "e197a38b",
   "metadata": {},
   "source": [
    "PC 1:\n",
    "- Questions with most influence on PC 1: 1: 'I tend to manipulate others to get my way', 4: 'I tend to exploit others towards my own end'"
   ]
  },
  {
   "cell_type": "code",
   "execution_count": 622,
   "id": "40986a42",
   "metadata": {},
   "outputs": [
    {
     "data": {
      "image/png": "[encoded data removed]",
      "text/plain": [
       "<Figure size 432x288 with 1 Axes>"
      ]
     },
     "metadata": {
      "needs_background": "light"
     },
     "output_type": "display_data"
    }
   ],
   "source": [
    "# PC 2: Loadings analisis\n",
    "\n",
    "# Get the correlation coefficients between variables and PC1\n",
    "pc2_loadings = pca.components_[1]\n",
    "\n",
    "# Create a bar plot to show the correlations for PC1\n",
    "plt.bar(range(len(pc1_loadings)), pc2_loadings)\n",
    "plt.xticks(range(len(pc1_loadings)), dark_traits.columns, rotation=90)\n",
    "plt.ylabel('Correlation Coefficient')\n",
    "plt.xlabel('Dark Traits Questions')\n",
    "plt.title('Correlation Coefficients for PC2')\n",
    "plt.show()\n"
   ]
  },
  {
   "cell_type": "markdown",
   "id": "774201a5",
   "metadata": {},
   "source": [
    "PC 2:\n",
    "- Questions with most influence on PC 2: 3: 'I have used flattery to get my way', 5: 'I tend to lack remorse', 10: ' I tend to want others to pay attention to me'"
   ]
  },
  {
   "cell_type": "code",
   "execution_count": 623,
   "id": "a4060c16",
   "metadata": {},
   "outputs": [
    {
     "data": {
      "image/png": "[encoded data removed]",
      "text/plain": [
       "<Figure size 432x288 with 1 Axes>"
      ]
     },
     "metadata": {
      "needs_background": "light"
     },
     "output_type": "display_data"
    }
   ],
   "source": [
    "# PC 3: Loadings analisis\n",
    "\n",
    "# Get the correlation coefficients between variables and PC3\n",
    "pc3_loadings = pca.components_[2]\n",
    "\n",
    "# Create a bar plot to show the correlations for PC3\n",
    "plt.bar(range(len(pc1_loadings)), pc3_loadings)\n",
    "plt.xticks(range(len(pc1_loadings)), dark_traits.columns, rotation=90)\n",
    "plt.ylabel('Correlation Coefficient')\n",
    "plt.xlabel('Dark Traits Questions')\n",
    "plt.title('Correlation Coefficients for PC3')\n",
    "plt.show()"
   ]
  },
  {
   "cell_type": "markdown",
   "id": "6e0e71a4",
   "metadata": {},
   "source": [
    "PC 3:\n",
    "- Questions with most influence on PC 3: 8: 'I tend to be cynical'"
   ]
  },
  {
   "cell_type": "code",
   "execution_count": 624,
   "id": "f9d342f1",
   "metadata": {},
   "outputs": [],
   "source": [
    "dark_traits_pca_df = pd.DataFrame(dark_traits_pca, columns=['PCA1', 'PCA2', 'PCA3'])\n",
    "\n",
    "new_df = pd.concat([data.iloc[:, :91], dark_traits_pca_df], axis=1)\n",
    "\n",
    "new_df.columns = list(range(1, 92)) + ['PC1', 'PC2', 'PC3']"
   ]
  },
  {
   "cell_type": "code",
   "execution_count": 625,
   "id": "69186366",
   "metadata": {},
   "outputs": [],
   "source": [
    "dark_traits_pca_df.columns = ['PC1', 'PC2', 'PC3']\n",
    "\n",
    "df_concat = pd.concat([dark_traits_pca_df, df.iloc[:, :91]], axis=1)\n",
    "\n",
    "df_concat.rename(columns=dict(zip(df_concat.columns[3:], range(1,92))), inplace=True)\n",
    "\n",
    "df_concat = df_concat.dropna()\n",
    "\n",
    "df_concat.columns = df_concat.columns[:3].tolist() + ['Artwork:'+str(col) for col in df_concat.columns[3:]]\n",
    "\n"
   ]
  },
  {
   "cell_type": "code",
   "execution_count": 626,
   "id": "652cb6b3",
   "metadata": {},
   "outputs": [],
   "source": [
    "preference_pc = df_concat.iloc[:, 3: 91]"
   ]
  },
  {
   "cell_type": "code",
   "execution_count": 627,
   "id": "3853d932",
   "metadata": {},
   "outputs": [
    {
     "data": {
      "text/html": [
       "<div>\n",
       "<style scoped>\n",
       "    .dataframe tbody tr th:only-of-type {\n",
       "        vertical-align: middle;\n",
       "    }\n",
       "\n",
       "    .dataframe tbody tr th {\n",
       "        vertical-align: top;\n",
       "    }\n",
       "\n",
       "    .dataframe thead th {\n",
       "        text-align: right;\n",
       "    }\n",
       "</style>\n",
       "<table border=\"1\" class=\"dataframe\">\n",
       "  <thead>\n",
       "    <tr style=\"text-align: right;\">\n",
       "      <th></th>\n",
       "      <th>avg_preference_ratings</th>\n",
       "      <th>dark_pca1</th>\n",
       "      <th>dark_pca2</th>\n",
       "      <th>dark_pca3</th>\n",
       "    </tr>\n",
       "  </thead>\n",
       "  <tbody>\n",
       "    <tr>\n",
       "      <th>avg_preference_ratings</th>\n",
       "      <td>1.000000</td>\n",
       "      <td>-0.032880</td>\n",
       "      <td>-0.038361</td>\n",
       "      <td>-0.050866</td>\n",
       "    </tr>\n",
       "    <tr>\n",
       "      <th>dark_pca1</th>\n",
       "      <td>-0.032880</td>\n",
       "      <td>1.000000</td>\n",
       "      <td>0.027226</td>\n",
       "      <td>0.000077</td>\n",
       "    </tr>\n",
       "    <tr>\n",
       "      <th>dark_pca2</th>\n",
       "      <td>-0.038361</td>\n",
       "      <td>0.027226</td>\n",
       "      <td>1.000000</td>\n",
       "      <td>0.040767</td>\n",
       "    </tr>\n",
       "    <tr>\n",
       "      <th>dark_pca3</th>\n",
       "      <td>-0.050866</td>\n",
       "      <td>0.000077</td>\n",
       "      <td>0.040767</td>\n",
       "      <td>1.000000</td>\n",
       "    </tr>\n",
       "  </tbody>\n",
       "</table>\n",
       "</div>"
      ],
      "text/plain": [
       "                        avg_preference_ratings  dark_pca1  dark_pca2  \\\n",
       "avg_preference_ratings                1.000000  -0.032880  -0.038361   \n",
       "dark_pca1                            -0.032880   1.000000   0.027226   \n",
       "dark_pca2                            -0.038361   0.027226   1.000000   \n",
       "dark_pca3                            -0.050866   0.000077   0.040767   \n",
       "\n",
       "                        dark_pca3  \n",
       "avg_preference_ratings  -0.050866  \n",
       "dark_pca1                0.000077  \n",
       "dark_pca2                0.040767  \n",
       "dark_pca3                1.000000  "
      ]
     },
     "execution_count": 627,
     "metadata": {},
     "output_type": "execute_result"
    }
   ],
   "source": [
    "regression_df = pd.DataFrame({\n",
    "    'avg_preference_ratings': preference_pc.mean(axis=1),\n",
    "    'dark_pca1': df_concat['PC1'],\n",
    "    'dark_pca2': df_concat['PC2'],\n",
    "    'dark_pca3': df_concat['PC3']\n",
    "})\n",
    "\n",
    "regression_df.corr()"
   ]
  },
  {
   "cell_type": "code",
   "execution_count": 628,
   "id": "2ae391f4",
   "metadata": {},
   "outputs": [],
   "source": [
    "\n",
    "X = regression_df[['dark_pca1', 'dark_pca2', 'dark_pca3']]\n",
    "\n",
    "y = regression_df['avg_preference_ratings']\n",
    "\n",
    "X_train, X_test, y_train, y_test = train_test_split(X, y, test_size=0.2, random_state= seed_value)\n",
    "\n",
    "model = LinearRegression().fit(X_train, y_train)"
   ]
  },
  {
   "cell_type": "code",
   "execution_count": 629,
   "id": "2eeac518",
   "metadata": {},
   "outputs": [
    {
     "data": {
      "image/png": "[encoded data removed]",
      "text/plain": [
       "<Figure size 432x288 with 1 Axes>"
      ]
     },
     "metadata": {
      "needs_background": "light"
     },
     "output_type": "display_data"
    },
    {
     "data": {
      "image/png": "[encoded data removed]",
      "text/plain": [
       "<Figure size 432x288 with 1 Axes>"
      ]
     },
     "metadata": {
      "needs_background": "light"
     },
     "output_type": "display_data"
    },
    {
     "data": {
      "image/png": "[encoded data removed]",
      "text/plain": [
       "<Figure size 432x288 with 1 Axes>"
      ]
     },
     "metadata": {
      "needs_background": "light"
     },
     "output_type": "display_data"
    },
    {
     "name": "stdout",
     "output_type": "stream",
     "text": [
      "R-squared for dark_pca1: 0.004923759431549546\n",
      "RMSE for dark_pca1: 0.6324553743470674\n",
      "R-squared for dark_pca2: 0.00419778693945716\n",
      "RMSE for dark_pca2: 0.6326860408387585\n",
      "R-squared for dark_pca3: 0.003129521774344779\n",
      "RMSE for dark_pca3: 0.6330253126747974\n",
      "R-squared for all predictors combined: 0.004923759431549546\n",
      "RMSE for all predictors combined: 0.6324553743470674\n"
     ]
    },
    {
     "name": "stderr",
     "output_type": "stream",
     "text": [
      "/Users/joaquinnavarrete/opt/anaconda3/lib/python3.9/site-packages/sklearn/base.py:493: FutureWarning: The feature names should match those that were passed during fit. Starting version 1.2, an error will be raised.\n",
      "Feature names must be in the same order as they were in fit.\n",
      "\n",
      "  warnings.warn(message, FutureWarning)\n",
      "/Users/joaquinnavarrete/opt/anaconda3/lib/python3.9/site-packages/sklearn/base.py:493: FutureWarning: The feature names should match those that were passed during fit. Starting version 1.2, an error will be raised.\n",
      "Feature names must be in the same order as they were in fit.\n",
      "\n",
      "  warnings.warn(message, FutureWarning)\n",
      "/Users/joaquinnavarrete/opt/anaconda3/lib/python3.9/site-packages/sklearn/base.py:493: FutureWarning: The feature names should match those that were passed during fit. Starting version 1.2, an error will be raised.\n",
      "Feature names must be in the same order as they were in fit.\n",
      "\n",
      "  warnings.warn(message, FutureWarning)\n",
      "/Users/joaquinnavarrete/opt/anaconda3/lib/python3.9/site-packages/sklearn/base.py:493: FutureWarning: The feature names should match those that were passed during fit. Starting version 1.2, an error will be raised.\n",
      "Feature names must be in the same order as they were in fit.\n",
      "\n",
      "  warnings.warn(message, FutureWarning)\n"
     ]
    }
   ],
   "source": [
    "plt.scatter(X['dark_pca1'], y)\n",
    "plt.plot(X['dark_pca1'], model.predict(X), color='red')\n",
    "plt.xlabel('dark_pca1')\n",
    "plt.ylabel('avg_preference_ratings')\n",
    "plt.show()\n",
    "\n",
    "\n",
    "plt.scatter(X['dark_pca2'], y)\n",
    "plt.plot(X['dark_pca2'], model.predict(X), color='red')\n",
    "plt.xlabel('dark_pca2')\n",
    "plt.ylabel('avg_preference_ratings')\n",
    "plt.show()\n",
    "\n",
    "\n",
    "plt.scatter(X['dark_pca3'], y)\n",
    "plt.plot(X['dark_pca3'], model.predict(X), color='red')\n",
    "plt.xlabel('dark_pca3')\n",
    "plt.ylabel('avg_preference_ratings')\n",
    "plt.show()\n",
    "\n",
    "\n",
    "\n",
    "model = LinearRegression().fit(X, y)\n",
    "\n",
    "print('R-squared for dark_pca1:', model.score(X[['dark_pca1', 'dark_pca2', 'dark_pca3']], y))\n",
    "rmse1 = math.sqrt(mean_squared_error(y, model.predict(X[['dark_pca1', 'dark_pca2', 'dark_pca3']])))\n",
    "print('RMSE for dark_pca1:', rmse1)\n",
    "\n",
    "\n",
    "print('R-squared for dark_pca2:', model.score(X[['dark_pca2', 'dark_pca1', 'dark_pca3']], y))\n",
    "rmse2 = math.sqrt(mean_squared_error(y, model.predict(X[['dark_pca2', 'dark_pca1', 'dark_pca3']])))\n",
    "print('RMSE for dark_pca2:', rmse2)\n",
    "\n",
    "\n",
    "\n",
    "print('R-squared for dark_pca3:', model.score(X[['dark_pca3', 'dark_pca1', 'dark_pca2']], y))\n",
    "rmse3 = math.sqrt(mean_squared_error(y, model.predict(X[['dark_pca3', 'dark_pca1', 'dark_pca2']])))\n",
    "print('RMSE for dark_pca3:', rmse3)\n",
    "\n",
    "\n",
    "\n",
    "print('R-squared for all predictors combined:', model.score(X, y))\n",
    "rmse_all = math.sqrt(mean_squared_error(y, model.predict(X)))\n",
    "print('RMSE for all predictors combined:', rmse_all)\n"
   ]
  },
  {
   "cell_type": "markdown",
   "id": "89318e9a",
   "metadata": {},
   "source": [
    "## 10) Can you determine the political orientation of the users (to simplify things and avoid gross class imbalance issues, you can consider just 2 classes: “left” (progressive & liberal) vs. “nonleft” (everyone else)) from all the other information available, using any classification model of your choice? Make sure to comment on the classification quality of this model. "
   ]
  },
  {
   "cell_type": "code",
   "execution_count": 630,
   "id": "f4d7a3e3",
   "metadata": {},
   "outputs": [],
   "source": [
    "data = pd.read_excel('data_try2.xlsx')\n",
    "column_names = list(range(1,92)) + list(range(1,92)) + list(range(1,13)) + list(range(1,12)) + \\\n",
    "               list(range(1,11)) + ['age', 'gender', 'political_orientation', 'art_education', \\\n",
    "                                    'general_sophistication', 'an_artist_myself']\n",
    "data.columns = column_names"
   ]
  },
  {
   "cell_type": "code",
   "execution_count": 631,
   "id": "c294a979",
   "metadata": {},
   "outputs": [],
   "source": [
    "\n",
    "# PCA of Action\n",
    "\n",
    "action_traits = data.iloc[:, 194 : 205].dropna()\n",
    "pca = PCA(n_components=3)\n",
    "action_traits_pca = pca.fit_transform(action_traits)\n",
    "\n",
    "# PCA of Dark\n",
    "\n",
    "dark_traits = data.iloc[:, 182 : 194].dropna()\n",
    "pca = PCA(n_components=3)\n",
    "dark_traits_pca = pca.fit_transform(dark_traits)\n",
    "\n",
    "# PCA of Self Image\n",
    "\n",
    "self_image = data.iloc[:, 205: 215].dropna()\n",
    "pca = PCA(n_components=3)\n",
    "self_image_pca = pca.fit_transform(self_image)\n",
    "\n",
    "\n",
    "# Energy \n",
    "\n",
    "energy = data.iloc[:, 91:182]\n",
    "\n",
    "# Ratings\n",
    "\n",
    "ratings = data.iloc[:, :91]\n",
    "\n",
    "# Other\n",
    "\n",
    "other = data.iloc[:, 215:221]\n",
    "\n",
    "# Concat Predictor dataframe\n",
    "\n",
    "regression_df = pd.concat([pd.DataFrame(action_traits_pca), pd.DataFrame(dark_traits_pca), pd.DataFrame(self_image_pca), energy, ratings, other], axis=1)"
   ]
  },
  {
   "cell_type": "code",
   "execution_count": 632,
   "id": "ade537ae",
   "metadata": {},
   "outputs": [
    {
     "name": "stderr",
     "output_type": "stream",
     "text": [
      "/Users/joaquinnavarrete/opt/anaconda3/lib/python3.9/site-packages/sklearn/utils/validation.py:1688: FutureWarning: Feature names only support names that are all strings. Got feature names with dtypes: ['int', 'str']. An error will be raised in 1.2.\n",
      "  warnings.warn(\n",
      "/Users/joaquinnavarrete/opt/anaconda3/lib/python3.9/site-packages/sklearn/utils/validation.py:1688: FutureWarning: Feature names only support names that are all strings. Got feature names with dtypes: ['int', 'str']. An error will be raised in 1.2.\n",
      "  warnings.warn(\n"
     ]
    }
   ],
   "source": [
    "regression_df['left_right'] = data['political_orientation'].apply(lambda x: 'left' if (x == 1 or x == 2) else 'non_left')\n",
    "\n",
    "scaler = StandardScaler()\n",
    "\n",
    "normalized_df = scaler.fit_transform(regression_df.drop('left_right', axis=1))\n",
    "\n",
    "normalized_df = pd.DataFrame(normalized_df, columns=regression_df.drop('left_right', axis=1).columns)\n",
    "normalized_df['left_right'] = regression_df['left_right']\n",
    "regression_df = normalized_df\n",
    "logistic_df = regression_df.dropna()\n"
   ]
  },
  {
   "cell_type": "code",
   "execution_count": 633,
   "id": "d9e730c7",
   "metadata": {},
   "outputs": [
    {
     "name": "stdout",
     "output_type": "stream",
     "text": [
      "Accuracy: 0.8375\n"
     ]
    },
    {
     "name": "stderr",
     "output_type": "stream",
     "text": [
      "/Users/joaquinnavarrete/opt/anaconda3/lib/python3.9/site-packages/sklearn/utils/validation.py:1688: FutureWarning: Feature names only support names that are all strings. Got feature names with dtypes: ['int', 'str']. An error will be raised in 1.2.\n",
      "  warnings.warn(\n",
      "/Users/joaquinnavarrete/opt/anaconda3/lib/python3.9/site-packages/sklearn/utils/validation.py:1688: FutureWarning: Feature names only support names that are all strings. Got feature names with dtypes: ['int', 'str']. An error will be raised in 1.2.\n",
      "  warnings.warn(\n",
      "/Users/joaquinnavarrete/opt/anaconda3/lib/python3.9/site-packages/sklearn/utils/validation.py:1688: FutureWarning: Feature names only support names that are all strings. Got feature names with dtypes: ['int', 'str']. An error will be raised in 1.2.\n",
      "  warnings.warn(\n"
     ]
    }
   ],
   "source": [
    "\n",
    "X_train, X_test, y_train, y_test = train_test_split(logistic_df.drop('left_right', axis=1), logistic_df['left_right'], test_size=0.3, random_state= seed_value)\n",
    "\n",
    "model = LogisticRegression(random_state = seed_value)\n",
    "model.fit(X_train, y_train)\n",
    "\n",
    "y_pred = model.predict(X_test)\n",
    "\n",
    "accuracy = model.score(X_test, y_test)\n",
    "print('Accuracy:', accuracy)\n"
   ]
  },
  {
   "cell_type": "code",
   "execution_count": 634,
   "id": "54efd428",
   "metadata": {},
   "outputs": [
    {
     "name": "stdout",
     "output_type": "stream",
     "text": [
      "Sensitivity: 0.7647058823529411\n",
      "Specificity: 0.8913043478260869\n"
     ]
    }
   ],
   "source": [
    "\n",
    "from sklearn.metrics import confusion_matrix\n",
    "\n",
    "cm = confusion_matrix(y_test, y_pred)\n",
    "\n",
    "tn, fp, fn, tp = cm.ravel()\n",
    "\n",
    "sensitivity = tp / (tp + fn)\n",
    "print('Sensitivity:', sensitivity)\n",
    "\n",
    "specificity = tn / (tn + fp)\n",
    "print('Specificity:', specificity)\n"
   ]
  },
  {
   "cell_type": "code",
   "execution_count": 635,
   "id": "55fc74dc",
   "metadata": {},
   "outputs": [
    {
     "name": "stderr",
     "output_type": "stream",
     "text": [
      "/Users/joaquinnavarrete/opt/anaconda3/lib/python3.9/site-packages/sklearn/utils/validation.py:1688: FutureWarning: Feature names only support names that are all strings. Got feature names with dtypes: ['int', 'str']. An error will be raised in 1.2.\n",
      "  warnings.warn(\n"
     ]
    },
    {
     "data": {
      "image/png": "[encoded data removed]",
      "text/plain": [
       "<Figure size 432x288 with 1 Axes>"
      ]
     },
     "metadata": {
      "needs_background": "light"
     },
     "output_type": "display_data"
    }
   ],
   "source": [
    "from sklearn.metrics import roc_curve, auc\n",
    "\n",
    "y_test_binary = np.where(y_test == 'left', 1, 0)\n",
    "\n",
    "y_pred_proba = model.predict_proba(X_test)[:,1]\n",
    "\n",
    "fpr, tpr, thresholds = roc_curve(y_test_binary, y_pred_proba)\n",
    "\n",
    "roc_auc = auc(fpr, tpr)\n",
    "\n",
    "\n",
    "plt.figure()\n",
    "plt.plot(fpr, tpr, color='darkorange', lw=2, label='ROC curve (area = %0.2f)' % roc_auc)\n",
    "plt.plot([0, 1], [0, 1], color='navy', lw=2, linestyle='--')\n",
    "plt.xlim([0.0, 1.0])\n",
    "plt.ylim([0.0, 1.05])\n",
    "plt.xlabel('False Positive Rate')\n",
    "plt.ylabel('True Positive Rate')\n",
    "plt.title('Receiver operating characteristic')\n",
    "plt.legend(loc=\"lower right\")\n",
    "plt.show()\n"
   ]
  },
  {
   "cell_type": "markdown",
   "id": "2c725ab9",
   "metadata": {},
   "source": []
  },
  {
   "cell_type": "code",
   "execution_count": null,
   "id": "2a83306d",
   "metadata": {},
   "outputs": [],
   "source": []
  },
  {
   "cell_type": "code",
   "execution_count": null,
   "id": "5ec292d9",
   "metadata": {},
   "outputs": [],
   "source": []
  },
  {
   "cell_type": "code",
   "execution_count": null,
   "id": "45442d98",
   "metadata": {},
   "outputs": [],
   "source": []
  }
 ],
 "metadata": {
  "kernelspec": {
   "display_name": "Python 3 (ipykernel)",
   "language": "python",
   "name": "python3"
  },
  "language_info": {
   "codemirror_mode": {
    "name": "ipython",
    "version": 3
   },
   "file_extension": ".py",
   "mimetype": "text/x-python",
   "name": "python",
   "nbconvert_exporter": "python",
   "pygments_lexer": "ipython3",
   "version": "3.9.12"
  }
 },
 "nbformat": 4,
 "nbformat_minor": 5
}
